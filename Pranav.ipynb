{
  "cells": [
    {
      "cell_type": "markdown",
      "source": [
        "import a random module to generate a random number.\n",
        "import matplotlib library to create a graph."
      ],
      "metadata": {
        "id": "zxRwg02ZkUQm"
      }
    },
    {
      "cell_type": "code",
      "execution_count": null,
      "metadata": {
        "id": "HXyQVjn5VCFT"
      },
      "outputs": [],
      "source": [
        "import random\n",
        "import matplotlib.pyplot as plt"
      ]
    },
    {
      "cell_type": "markdown",
      "source": [
        "Create a dictionary named 'mapping_dict inclosed in a zip file which returns memory address."
      ],
      "metadata": {
        "id": "4xtcck8fkSad"
      }
    },
    {
      "cell_type": "markdown",
      "source": [
        "zip function and range function is used.\n",
        "Zip function is used to create tuples of same iterables."
      ],
      "metadata": {
        "id": "RqhGrEMaGiyC"
      }
    },
    {
      "cell_type": "markdown",
      "source": [
        "Generate a range of numbers in size(0,10)"
      ],
      "metadata": {
        "id": "SmuHuHZxNdGG"
      }
    },
    {
      "cell_type": "code",
      "execution_count": null,
      "metadata": {
        "id": "3vAeQvqxYQQc"
      },
      "outputs": [],
      "source": [
        "mapping_dict = dict(zip(range(0,10),range(0,10)))"
      ]
    },
    {
      "cell_type": "code",
      "execution_count": null,
      "metadata": {
        "colab": {
          "base_uri": "https://localhost:8080/"
        },
        "id": "oBzWrsy2nsoC",
        "outputId": "3c44c834-f62e-4f0a-853a-950028ce1cb3"
      },
      "outputs": [
        {
          "output_type": "execute_result",
          "data": {
            "text/plain": [
              "{0: 0, 1: 1, 2: 2, 3: 3, 4: 4, 5: 5, 6: 6, 7: 7, 8: 8, 9: 9}"
            ]
          },
          "metadata": {},
          "execution_count": 4
        }
      ],
      "source": [
        "mapping_dict"
      ]
    },
    {
      "cell_type": "markdown",
      "source": [
        "Converting integer values of the dictionary to string values."
      ],
      "metadata": {
        "id": "0RHdFXbBlHVS"
      }
    },
    {
      "cell_type": "code",
      "execution_count": null,
      "metadata": {
        "id": "ghEVfaoApjSN"
      },
      "outputs": [],
      "source": [
        "for k in mapping_dict.keys():\n",
        "\n",
        "  mapping_dict[k] = str(mapping_dict[k])"
      ]
    },
    {
      "cell_type": "markdown",
      "source": [
        "Now, each key-value pair in the dictionary has the key as an integer and the corresponding value as a string"
      ],
      "metadata": {
        "id": "JWhJqCULHwhM"
      }
    },
    {
      "cell_type": "code",
      "execution_count": null,
      "metadata": {
        "colab": {
          "base_uri": "https://localhost:8080/"
        },
        "id": "VKAyIsW6q_qS",
        "outputId": "3211e8a4-1b74-4458-8cb8-b4742b463b7b"
      },
      "outputs": [
        {
          "output_type": "execute_result",
          "data": {
            "text/plain": [
              "{0: '0',\n",
              " 1: '1',\n",
              " 2: '2',\n",
              " 3: '3',\n",
              " 4: '4',\n",
              " 5: '5',\n",
              " 6: '6',\n",
              " 7: '7',\n",
              " 8: '8',\n",
              " 9: '9'}"
            ]
          },
          "metadata": {},
          "execution_count": 6
        }
      ],
      "source": [
        "mapping_dict"
      ]
    },
    {
      "cell_type": "markdown",
      "source": [
        "Using for loop extending the dictionary by adding character values by taking its ASCII value."
      ],
      "metadata": {
        "id": "tUuf1mkPll0X"
      }
    },
    {
      "cell_type": "markdown",
      "source": [
        "Extending the dictionary in such a way that after numeric values from 10 onwards there will be character values."
      ],
      "metadata": {
        "id": "BGL_97Nbl1YV"
      }
    },
    {
      "cell_type": "code",
      "execution_count": null,
      "metadata": {
        "id": "GowosEpVrXfK"
      },
      "outputs": [],
      "source": [
        "for i in range(0,26):\n",
        "  mapping_dict[10+i] = chr(65+i)"
      ]
    },
    {
      "cell_type": "markdown",
      "source": [
        "Now, a new value pair in the dictionary is added."
      ],
      "metadata": {
        "id": "ETvpDpl4IAb8"
      }
    },
    {
      "cell_type": "code",
      "execution_count": null,
      "metadata": {
        "colab": {
          "base_uri": "https://localhost:8080/"
        },
        "id": "beprdUCauVOp",
        "outputId": "71d945e8-aa5d-4f2a-c2f7-405e3ce82fbc"
      },
      "outputs": [
        {
          "output_type": "execute_result",
          "data": {
            "text/plain": [
              "{0: '0',\n",
              " 1: '1',\n",
              " 2: '2',\n",
              " 3: '3',\n",
              " 4: '4',\n",
              " 5: '5',\n",
              " 6: '6',\n",
              " 7: '7',\n",
              " 8: '8',\n",
              " 9: '9',\n",
              " 10: 'A',\n",
              " 11: 'B',\n",
              " 12: 'C',\n",
              " 13: 'D',\n",
              " 14: 'E',\n",
              " 15: 'F',\n",
              " 16: 'G',\n",
              " 17: 'H',\n",
              " 18: 'I',\n",
              " 19: 'J',\n",
              " 20: 'K',\n",
              " 21: 'L',\n",
              " 22: 'M',\n",
              " 23: 'N',\n",
              " 24: 'O',\n",
              " 25: 'P',\n",
              " 26: 'Q',\n",
              " 27: 'R',\n",
              " 28: 'S',\n",
              " 29: 'T',\n",
              " 30: 'U',\n",
              " 31: 'V',\n",
              " 32: 'W',\n",
              " 33: 'X',\n",
              " 34: 'Y',\n",
              " 35: 'Z'}"
            ]
          },
          "metadata": {},
          "execution_count": 8
        }
      ],
      "source": [
        "mapping_dict"
      ]
    },
    {
      "cell_type": "markdown",
      "source": [
        "Took a random sample size.(We used 5000000).\n",
        "This will be the number of strings generated in the list.\n",
        "And an empty list is generated 'random_numbers' which shows the generated string.Now, a list of string is generated for randomly selecting values from the string"
      ],
      "metadata": {
        "id": "5fGf9sn3mL4_"
      }
    },
    {
      "cell_type": "markdown",
      "source": [
        "A loop  will start that will iterate sample_size times, generating a new string in each iteration."
      ],
      "metadata": {
        "id": "EZ45ElrhJq-Y"
      }
    },
    {
      "cell_type": "markdown",
      "source": [
        "An empty string is generated called blank_str.\n",
        "blank_str is used for bar chart."
      ],
      "metadata": {
        "id": "5BFhoA50pqJV"
      }
    },
    {
      "cell_type": "markdown",
      "source": [
        "Here, a random integer is generated between 0 and 35.\n",
        "blank_str = blank_str + mapping_dict[random_digit]:It appends the character corresponding to the randomly generated index (random_digit) from mapping_dict to the blank_str. Here, the loop ends creating a list of 5000000 strings"
      ],
      "metadata": {
        "id": "TTtePifZKbJo"
      }
    },
    {
      "cell_type": "markdown",
      "source": [
        "append function is used."
      ],
      "metadata": {
        "id": "TfROtEKZpx8h"
      }
    },
    {
      "cell_type": "markdown",
      "source": [
        "Now,\n",
        "a loop will start that will run 8 times.\n",
        "A coin toss will be done which will generat a random integer (either 0 or 1) using random.randint(0, 1).\n",
        "\n",
        "If a coin toss generates 1 i.e.,True another random digit is generated between (0,35).\n",
        "\n",
        "Now the variable which is randomly generated will assign to the blank_str.\n"
      ],
      "metadata": {
        "id": "ICjbL_ApMHW6"
      }
    },
    {
      "cell_type": "markdown",
      "source": [
        "Furthur if the coin toss is not one the loop will break using break statement."
      ],
      "metadata": {
        "id": "OX3abaAQNMpR"
      }
    },
    {
      "cell_type": "code",
      "execution_count": null,
      "metadata": {
        "id": "KPGkS2NXVMGn"
      },
      "outputs": [],
      "source": [
        "sample_size = 5000000\n",
        "\n",
        "random_numbers = list()\n",
        "\n",
        "for i in range(0,sample_size):\n",
        "\n",
        "  blank_str = str()\n",
        "\n",
        "  random_digit = random.randint(0,35)\n",
        "  blank_str = blank_str + mapping_dict[random_digit]\n",
        "\n",
        "  random_digit = random.randint(0,35)\n",
        "  blank_str = blank_str + mapping_dict[random_digit]\n",
        "\n",
        "  for i in range(0,8):\n",
        "    coin_toss = random.randint(0,1)\n",
        "\n",
        "    if coin_toss == 1:\n",
        "\n",
        "      random_digit = random.randint(0,35)\n",
        "      blank_str = blank_str + mapping_dict[random_digit]\n",
        "\n",
        "    else:\n",
        "      break\n",
        "\n",
        "  random_numbers.append(blank_str)"
      ]
    },
    {
      "cell_type": "markdown",
      "source": [
        "reversing a dictionary by creating another dictionary called reverse_mapping_dict. That will reverse the elements of the mapping_dict."
      ],
      "metadata": {
        "id": "KeRbD9HPrGwS"
      }
    },
    {
      "cell_type": "code",
      "execution_count": null,
      "metadata": {
        "id": "Q2nV3-Jgv-GR"
      },
      "outputs": [],
      "source": [
        "reverse_mapping_dict = dict()\n",
        "\n",
        "for k in mapping_dict.keys():\n",
        "  reverse_mapping_dict[mapping_dict[k]] = k"
      ]
    },
    {
      "cell_type": "markdown",
      "source": [
        "Now, we created a dictionary to calculate frequency of the highest base.\n",
        "Now maximum digit character is identified.\n",
        "\n",
        " After, it is checked if the highest_base is already a key in the base_frequency dictionary.If the base is already in the dictionary, it increment its frequency by the normal value.\n",
        "\n",
        " else if the base is not in the dictionary it create a new place in the dictionary.\n",
        "\n",
        " Thus, after the loop is completed highest base frequency is identified."
      ],
      "metadata": {
        "id": "bBjv_NpGO6x8"
      }
    },
    {
      "cell_type": "code",
      "execution_count": null,
      "metadata": {
        "id": "ba745hqvyubF"
      },
      "outputs": [],
      "source": [
        "base_frequency = dict()\n",
        "\n",
        "for blank_str in random_numbers:\n",
        "  highest_digit = max(blank_str)\n",
        "  highest_base = reverse_mapping_dict[highest_digit] + 1\n",
        "\n",
        "  if highest_base in base_frequency.keys():\n",
        "    base_frequency[highest_base] += (1/sample_size)\n",
        "  else:\n",
        "    base_frequency[highest_base] = (1/sample_size)"
      ]
    },
    {
      "cell_type": "markdown",
      "source": [
        "Now, a bar chart is created based on the data in the base_frequency dictionary.\n",
        "\n",
        "x-axis shows the keys (highest bases) and the y-axis shows the values (frequencies) in the dictionary."
      ],
      "metadata": {
        "id": "SAAQhsCuQ2en"
      }
    },
    {
      "cell_type": "code",
      "source": [
        "plt.bar(x=base_frequency.keys(),height=base_frequency.values())"
      ],
      "metadata": {
        "id": "1Tofc60-WSDf",
        "colab": {
          "base_uri": "https://localhost:8080/",
          "height": 447
        },
        "outputId": "85c591ac-b2cf-4ae3-9f00-fef6bb2d870d"
      },
      "execution_count": null,
      "outputs": [
        {
          "output_type": "execute_result",
          "data": {
            "text/plain": [
              "<BarContainer object of 36 artists>"
            ]
          },
          "metadata": {},
          "execution_count": 12
        },
        {
          "output_type": "display_data",
          "data": {
            "text/plain": [
              "<Figure size 640x480 with 1 Axes>"
            ],
            "image/png": "[encoded data removed]"
          },
          "metadata": {}
        }
      ]
    },
    {
      "cell_type": "markdown",
      "source": [
        "Hence, here is a bar chart representing the frequency distribution of the highest bases in the sampled strings."
      ],
      "metadata": {
        "id": "rAtS2ox1RU6D"
      }
    }
  ],
  "metadata": {
    "colab": {
      "provenance": []
    },
    "kernelspec": {
      "display_name": "Python 3",
      "name": "python3"
    },
    "language_info": {
      "name": "python"
    }
  },
  "nbformat": 4,
  "nbformat_minor": 0
}